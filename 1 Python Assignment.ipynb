{
 "cells": [
  {
   "cell_type": "markdown",
   "id": "45b1d1e1-c487-4364-aa4a-6585c21ae47f",
   "metadata": {},
   "source": [
    "# Question 1\n"
   ]
  },
  {
   "cell_type": "code",
   "execution_count": 21,
   "id": "ee28799b-f841-47a4-9eed-ce4e99e7e0c9",
   "metadata": {},
   "outputs": [],
   "source": [
    "#i. \n",
    "X = 'Akash Nigam is studying Data Science'\n",
    "#ii. \n",
    "Y = ['Akash', 267, True, 45.09]\n",
    "#iii. \n",
    "Z = 45.09\n",
    "#iv. \n",
    "A = (1, \"two\", 3.0)"
   ]
  },
  {
   "cell_type": "markdown",
   "id": "2f8f81cd-d5e5-4170-aefc-f9fc23e0ccb0",
   "metadata": {},
   "source": [
    "# Question 2"
   ]
  },
  {
   "cell_type": "markdown",
   "id": "90439a05-ba84-42a7-90fc-4e403baf3e19",
   "metadata": {},
   "source": [
    "i. String\n",
    "ii. String\n",
    "iii. List\n",
    "iv. Integer"
   ]
  },
  {
   "cell_type": "markdown",
   "id": "bf4667d9-445d-490e-affc-527628d15da0",
   "metadata": {},
   "source": [
    "# Question 3"
   ]
  },
  {
   "cell_type": "markdown",
   "id": "053ae74b-b5fc-4d50-971a-0d04311d197c",
   "metadata": {},
   "source": [
    "(i) The / operator is used for division. For example, if we have two variables a and b, we can divide them using the / operator as follows: \n",
    "\n",
    "a = 10\n",
    "b = 2\n",
    "c = a / b\n",
    "print(c) # Output: 5.0\n",
    "\n",
    "(ii) The % operator is used for modulus or remainder. It returns the remainder of the division of two numbers. For example:\n",
    "\n",
    "a = 10\n",
    "b = 3\n",
    "c = a % b\n",
    "print(c) # Output: 1\n",
    "\n",
    "(iii) The // operator is used for floor division. It returns the quotient of the division, rounded down to the nearest integer. For example:\n",
    "\n",
    "a = 10\n",
    "b = 3\n",
    "c = a // b\n",
    "print(c) # Output: 3\n",
    "\n",
    "(iv) The ** operator is used for exponentiation. It raises the first operand to the power of the second operand. For example:\n",
    "\n",
    "a = 2\n",
    "b = 3\n",
    "c = a ** b\n",
    "print(c) # Output: 8"
   ]
  },
  {
   "cell_type": "markdown",
   "id": "70a28435-bade-4c13-a9c0-316aa42e381a",
   "metadata": {},
   "source": [
    "# Question 4"
   ]
  },
  {
   "cell_type": "code",
   "execution_count": 30,
   "id": "f605cf05-7640-4145-abf4-fca89443bcbf",
   "metadata": {},
   "outputs": [
    {
     "name": "stdout",
     "output_type": "stream",
     "text": [
      "Akash is of type <class 'str'>\n",
      "Nigam is of type <class 'str'>\n",
      "45.32 is of type <class 'float'>\n",
      "35.84 is of type <class 'float'>\n",
      "True is of type <class 'bool'>\n",
      "623534523 is of type <class 'int'>\n",
      "False is of type <class 'bool'>\n",
      "('Akash', 'is', 'best') is of type <class 'tuple'>\n",
      "Data Science is of type <class 'str'>\n",
      "54234 is of type <class 'int'>\n"
     ]
    }
   ],
   "source": [
    "X = ['Akash', \"Nigam\", 45.32, 35.84, True, 623534523, False, ('Akash', 'is', 'best'), 'Data Science', 54234]\n",
    "for i in X:\n",
    "    print(f'{i} is of type {type(i)}')"
   ]
  },
  {
   "cell_type": "markdown",
   "id": "2b077bf8-831c-4853-883c-c87169878d9d",
   "metadata": {},
   "source": [
    "# Question 5"
   ]
  },
  {
   "cell_type": "code",
   "execution_count": 31,
   "id": "e98572c9-9cef-4445-9df1-6322c7c848bb",
   "metadata": {},
   "outputs": [
    {
     "name": "stdout",
     "output_type": "stream",
     "text": [
      "Number A is purely divisible by number B  2  times.\n"
     ]
    }
   ],
   "source": [
    "A = 36\n",
    "B = 6\n",
    "\n",
    "count = 0\n",
    "\n",
    "while A % B == 0:\n",
    "    count += 1\n",
    "    A = A / B\n",
    "\n",
    "if count > 0:\n",
    "    print(\"Number A is purely divisible by number B \", count, \" times.\")\n",
    "else:\n",
    "    print(\"Number A is not purely divisible by number B.\")"
   ]
  },
  {
   "cell_type": "markdown",
   "id": "5f04ed3c-d8c6-4989-b8c6-ddf6205767fa",
   "metadata": {},
   "source": [
    "# Question 6"
   ]
  },
  {
   "cell_type": "code",
   "execution_count": 32,
   "id": "d9419d86-8c02-4833-8368-d4716d5ebc74",
   "metadata": {},
   "outputs": [
    {
     "name": "stdout",
     "output_type": "stream",
     "text": [
      "[1, 2, 3, 4, 5, 6, 7, 8, 9, 10, 11, 12, 13, 14, 15, 16, 17, 18, 19, 20, 21, 22, 23, 24, 25]\n"
     ]
    }
   ],
   "source": [
    "numbers = list(range(1, 26))\n",
    "print(numbers)"
   ]
  },
  {
   "cell_type": "code",
   "execution_count": 34,
   "id": "b0f5400b-e8a6-479c-b85f-9b155cebf51b",
   "metadata": {},
   "outputs": [
    {
     "name": "stdout",
     "output_type": "stream",
     "text": [
      "Number 1 is not divisible by 3\n",
      "Number 2 is not divisible by 3\n",
      "Number 3 is divisible by 3\n",
      "Number 4 is not divisible by 3\n",
      "Number 5 is not divisible by 3\n",
      "Number 6 is divisible by 3\n",
      "Number 7 is not divisible by 3\n",
      "Number 8 is not divisible by 3\n",
      "Number 9 is divisible by 3\n",
      "Number 10 is not divisible by 3\n",
      "Number 11 is not divisible by 3\n",
      "Number 12 is divisible by 3\n",
      "Number 13 is not divisible by 3\n",
      "Number 14 is not divisible by 3\n",
      "Number 15 is divisible by 3\n",
      "Number 16 is not divisible by 3\n",
      "Number 17 is not divisible by 3\n",
      "Number 18 is divisible by 3\n",
      "Number 19 is not divisible by 3\n",
      "Number 20 is not divisible by 3\n",
      "Number 21 is divisible by 3\n",
      "Number 22 is not divisible by 3\n",
      "Number 23 is not divisible by 3\n",
      "Number 24 is divisible by 3\n",
      "Number 25 is not divisible by 3\n"
     ]
    }
   ],
   "source": [
    "for n in numbers:\n",
    "    if n % 3 == 0:\n",
    "        print(f'Number {n} is divisible by 3')\n",
    "    else:\n",
    "        print(f'Number {n} is not divisible by 3')"
   ]
  },
  {
   "cell_type": "markdown",
   "id": "1b726803-4812-4da5-8de2-1734101363ad",
   "metadata": {},
   "source": [
    "# Question 7"
   ]
  },
  {
   "cell_type": "markdown",
   "id": "8b578cb0-408d-4181-aa77-330f6253eaa6",
   "metadata": {},
   "source": [
    " 1. Mutable: A mutable data type is one that can be modified or altered. This means that you can change its value or properties even after it has been created. For example, X = [ 25, 345, 'Akash']\n",
    " 2. Immutable: An immutable data type is one that cannot be changed once it is created. This means that its value or properties are fixed. For example Y = 'Akash Nigam'"
   ]
  },
  {
   "cell_type": "code",
   "execution_count": null,
   "id": "38bb73ee-2629-4fe0-bd78-a6b8f1d0211b",
   "metadata": {},
   "outputs": [],
   "source": []
  }
 ],
 "metadata": {
  "kernelspec": {
   "display_name": "Python 3 (ipykernel)",
   "language": "python",
   "name": "python3"
  },
  "language_info": {
   "codemirror_mode": {
    "name": "ipython",
    "version": 3
   },
   "file_extension": ".py",
   "mimetype": "text/x-python",
   "name": "python",
   "nbconvert_exporter": "python",
   "pygments_lexer": "ipython3",
   "version": "3.10.8"
  }
 },
 "nbformat": 4,
 "nbformat_minor": 5
}
